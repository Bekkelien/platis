{
 "cells": [
  {
   "cell_type": "code",
   "execution_count": 7,
   "metadata": {},
   "outputs": [
    {
     "name": "stdout",
     "output_type": "stream",
     "text": [
      "Requirement already satisfied: Pillow in c:\\users\\d\\appdata\\local\\programs\\python\\python311\\lib\\site-packages (10.0.0)\n",
      "Collecting matplotlib\n",
      "  Downloading matplotlib-3.7.2-cp311-cp311-win_amd64.whl (7.5 MB)\n",
      "                                              0.0/7.5 MB ? eta -:--:--\n",
      "                                              0.1/7.5 MB 5.5 MB/s eta 0:00:02\n",
      "     --                                       0.5/7.5 MB 7.4 MB/s eta 0:00:01\n",
      "     ----                                     0.8/7.5 MB 7.4 MB/s eta 0:00:01\n",
      "     ------                                   1.2/7.5 MB 7.7 MB/s eta 0:00:01\n",
      "     --------                                 1.6/7.5 MB 8.0 MB/s eta 0:00:01\n",
      "     ----------                               2.0/7.5 MB 8.0 MB/s eta 0:00:01\n",
      "     ------------                             2.4/7.5 MB 8.0 MB/s eta 0:00:01\n",
      "     ---------------                          3.0/7.5 MB 8.6 MB/s eta 0:00:01\n",
      "     -----------------                        3.3/7.5 MB 8.5 MB/s eta 0:00:01\n",
      "     --------------------                     3.8/7.5 MB 8.7 MB/s eta 0:00:01\n",
      "     ----------------------                   4.2/7.5 MB 8.9 MB/s eta 0:00:01\n",
      "     ----------------------                   4.2/7.5 MB 8.9 MB/s eta 0:00:01\n",
      "     ------------------------                 4.5/7.5 MB 7.8 MB/s eta 0:00:01\n",
      "     ---------------------------              5.2/7.5 MB 8.2 MB/s eta 0:00:01\n",
      "     ------------------------------           5.6/7.5 MB 8.4 MB/s eta 0:00:01\n",
      "     --------------------------------         6.2/7.5 MB 8.6 MB/s eta 0:00:01\n",
      "     ------------------------------------     6.8/7.5 MB 8.8 MB/s eta 0:00:01\n",
      "     ---------------------------------------  7.3/7.5 MB 9.0 MB/s eta 0:00:01\n",
      "     ---------------------------------------- 7.5/7.5 MB 8.9 MB/s eta 0:00:00\n",
      "Collecting contourpy>=1.0.1 (from matplotlib)\n",
      "  Downloading contourpy-1.1.0-cp311-cp311-win_amd64.whl (470 kB)\n",
      "                                              0.0/470.9 kB ? eta -:--:--\n",
      "     ------------------------------------- 470.9/470.9 kB 10.0 MB/s eta 0:00:00\n",
      "Collecting cycler>=0.10 (from matplotlib)\n",
      "  Downloading cycler-0.11.0-py3-none-any.whl (6.4 kB)\n",
      "Collecting fonttools>=4.22.0 (from matplotlib)\n",
      "  Downloading fonttools-4.40.0-cp311-cp311-win_amd64.whl (1.9 MB)\n",
      "                                              0.0/1.9 MB ? eta -:--:--\n",
      "     ----------                               0.5/1.9 MB 15.0 MB/s eta 0:00:01\n",
      "     ----------------------                   1.1/1.9 MB 14.0 MB/s eta 0:00:01\n",
      "     -----------------------------------      1.7/1.9 MB 13.8 MB/s eta 0:00:01\n",
      "     ---------------------------------------- 1.9/1.9 MB 13.7 MB/s eta 0:00:00\n",
      "Collecting kiwisolver>=1.0.1 (from matplotlib)\n",
      "  Downloading kiwisolver-1.4.4-cp311-cp311-win_amd64.whl (55 kB)\n",
      "                                              0.0/55.4 kB ? eta -:--:--\n",
      "     ---------------------------------------- 55.4/55.4 kB 3.0 MB/s eta 0:00:00\n",
      "Collecting numpy>=1.20 (from matplotlib)\n",
      "  Using cached numpy-1.25.0-cp311-cp311-win_amd64.whl (15.0 MB)\n",
      "Requirement already satisfied: packaging>=20.0 in c:\\users\\d\\appdata\\roaming\\python\\python311\\site-packages (from matplotlib) (23.1)\n",
      "Requirement already satisfied: pillow>=6.2.0 in c:\\users\\d\\appdata\\local\\programs\\python\\python311\\lib\\site-packages (from matplotlib) (10.0.0)\n",
      "Collecting pyparsing<3.1,>=2.3.1 (from matplotlib)\n",
      "  Downloading pyparsing-3.0.9-py3-none-any.whl (98 kB)\n",
      "                                              0.0/98.3 kB ? eta -:--:--\n",
      "     ---------------------------------------- 98.3/98.3 kB 5.5 MB/s eta 0:00:00\n",
      "Requirement already satisfied: python-dateutil>=2.7 in c:\\users\\d\\appdata\\roaming\\python\\python311\\site-packages (from matplotlib) (2.8.2)\n",
      "Requirement already satisfied: six>=1.5 in c:\\users\\d\\appdata\\roaming\\python\\python311\\site-packages (from python-dateutil>=2.7->matplotlib) (1.16.0)\n",
      "Installing collected packages: pyparsing, numpy, kiwisolver, fonttools, cycler, contourpy, matplotlib\n",
      "Successfully installed contourpy-1.1.0 cycler-0.11.0 fonttools-4.40.0 kiwisolver-1.4.4 matplotlib-3.7.2 numpy-1.25.0 pyparsing-3.0.9\n"
     ]
    }
   ],
   "source": [
    "!pip install Pillow\n",
    "!pip install matplotlib"
   ]
  },
  {
   "cell_type": "code",
   "execution_count": 8,
   "metadata": {},
   "outputs": [
    {
     "data": {
      "text/plain": [
       "(352, 176)"
      ]
     },
     "execution_count": 8,
     "metadata": {},
     "output_type": "execute_result"
    }
   ],
   "source": [
    "from PIL import Image\n",
    "from matplotlib import pyplot as plt\n",
    "\n",
    "path = './art/background/terrain/terrain.png'\n",
    "im = Image.open(path)\n",
    "im.size"
   ]
  },
  {
   "cell_type": "code",
   "execution_count": 20,
   "metadata": {},
   "outputs": [
    {
     "data": {
      "image/png": "[encoded data removed]",
      "text/plain": [
       "<Figure size 640x480 with 1 Axes>"
      ]
     },
     "metadata": {},
     "output_type": "display_data"
    }
   ],
   "source": [
    "x = 96\n",
    "y = 176-48\n",
    "width = 48\n",
    "height = width\n",
    "roi = im.crop((x, y, x + width, y + height))\n",
    "pixels = list(roi.getdata())\n",
    "\n",
    "extracted_image = Image.new(\"RGB\", (width, height))\n",
    "extracted_image.putdata(pixels)\n",
    "\n",
    "# Plot the extracted image\n",
    "plt.imshow(extracted_image)\n",
    "plt.axis('off')  # Turn off axes\n",
    "plt.show()\n"
   ]
  }
 ],
 "metadata": {
  "kernelspec": {
   "display_name": "Python 3",
   "language": "python",
   "name": "python3"
  },
  "language_info": {
   "codemirror_mode": {
    "name": "ipython",
    "version": 3
   },
   "file_extension": ".py",
   "mimetype": "text/x-python",
   "name": "python",
   "nbconvert_exporter": "python",
   "pygments_lexer": "ipython3",
   "version": "3.11.4"
  },
  "orig_nbformat": 4
 },
 "nbformat": 4,
 "nbformat_minor": 2
}
